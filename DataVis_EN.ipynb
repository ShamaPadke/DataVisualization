{
 "cells": [
  {
   "cell_type": "markdown",
   "metadata": {
    "deletable": false,
    "editable": false,
    "version": "v.10.20200124"
   },
   "source": [
    "#### This tutorial introduces how to create basic visualizations of a large data set using Python. \n",
    "#### Note: You do not need to have any prior knowledge of Python to successfully complete this exercise.\n",
    "#### Remember to execute code cells with Shift+Enter.\n",
    "\n",
    "<div class=\"alert alert-block alert-info\">A cell like this indicates a question you need to answer in the \"Answers.txt\" file. Please answer the question <b>before</b> continuing through the notebook. You can <b>double click</b> on \"Answers.txt\" in the Left Sidebar now to open it in a new tab. As you go through the notebook, navigate between the tabs to answer questions.\n",
    "</div>"
   ]
  },
  {
   "cell_type": "markdown",
   "metadata": {},
   "source": [
    "## Introduction\n",
    "\n",
    "The World Happiness Report is a survey of global happiness. It contains rankings of happiness based on participants' ratings of their own lives. \n",
    "\n",
    "*Happiness* is based on a survey in which representative samples of participants from each country are asked to think of a ladder, with the best possible life for them being a 10, and the worst possible life being a 0. They are then asked to rate their own current lives on that 0 to 10 scale. The report discusses how the results correlate with various life factors.\n",
    "\n",
    "In this tutorial, we will try to answer some questions by creating visualizations of data from the World Happiness Report:\n",
    "- Which countries and regions of the world are happiest?\n",
    "- What factors contribute to a country's/region's happiness ranking?\n",
    "- How did happiness change over time?"
   ]
  },
  {
   "cell_type": "markdown",
   "metadata": {
    "_uuid": "135bb935df95d60c07f3e85a04d3742134f97152"
   },
   "source": [
    "<b>We will work through a few different visualizations (listed below). You can follow links to jump directly to a particular section.</b>\n",
    "\n",
    "## Table of contents\n",
    "\n",
    "* [Variables](#1)\n",
    "* [Import Libraries](#2)\n",
    "* [Load & Preview Data](#3)\n",
    "* [Bar Graph](#4)\n",
    "* [Box Plot](#5)\n",
    "* [Violin Plot](#6)\n",
    "* [Scatter Plot](#7)\n",
    "* [Pair Plot](#8) \n",
    "* [Heat Map](#9)\n",
    "* [Interactive Bubble Plot](#10)\n",
    "* [Sources](#11)"
   ]
  },
  {
   "cell_type": "markdown",
   "metadata": {
    "_uuid": "81f4986cfb12e38ad4ce50ab2044125b8a53e5d9"
   },
   "source": [
    "<a id=1></a>\n",
    "## Variables\n",
    "[[ go back to the top ]](#Table-of-contents)\n",
    "\n",
    "The original report and data sets contain a lot of data. In this tutorial, we will use only a subset of these data, and focus on the following variables:\n",
    "\n",
    "* **Country**: Name of the country\n",
    "* **Region**: Region the country belongs to\n",
    "* **Happiness_Score**: Participants were asked: “Please imagine a ladder, with steps numbered from 0 at the bottom to 10 at the top. The top of the ladder represents the best possible life for you and the bottom of the ladder represents the worst possible life for you. On which step of the ladder would you say you personally feel you stand at this time?”\n",
    "\n",
    "As factors that potentially contribute to Happiness_Score we consider:\n",
    "\n",
    "* **Economy**: GDP per capita\n",
    "* **Health**: Average life expectancy at birth\n",
    "* **Family**: Average of the binary responses (either 0 or 1) to the question: “If you were in trouble, do you have relatives or friends you can count on to help you whenever you need them, or not?”\n",
    "* **Freedom**: Average of the binary responses to the question: “Are you satisfied or dissatisfied with your freedom to choose what you do with your life?”\n",
    "* **Trust**: Average of the binary responses to the questions: “Is corruption widespread throughout the government or not?” and “Is corruption widespread within businesses or not?” \n",
    "* **Generosity**: Determined from the responses to the binary question: “Have you donated money to a charity in the past month?”\n",
    "\n",
    "Note: These variables are taken from a number of different measurements and some have been altered and standardized so that the data set can be analyzed. There are various ways in which the data sets can be interpreted and analyzed; this tutorial uses simplified data sets and analyses for the purposes of demonstrating data visualizations. For full reports and statistical analyses, please visit https://worldhappiness.report/."
   ]
  },
  {
   "cell_type": "markdown",
   "metadata": {},
   "source": [
    "<div class=\"alert alert-block alert-info\">Pause! Answer <b>Question 1</b> in the Answers.txt file.\n",
    "    \n",
    "Which variables do you think relate to Happiness_Score the most? Why?\n",
    "    \n",
    "</div>"
   ]
  },
  {
   "cell_type": "markdown",
   "metadata": {},
   "source": [
    "<a id=2></a>\n",
    "## Import Libraries\n",
    "[[ go back to the top ]](#Table-of-contents)"
   ]
  },
  {
   "cell_type": "code",
   "execution_count": null,
   "metadata": {
    "_cell_guid": "b1076dfc-b9ad-4769-8c92-a6c4dae69d19",
    "_uuid": "8f2839f25d086af736a60e9eeb907d3b93b6e0e5"
   },
   "outputs": [],
   "source": [
    "# import Pandas library and call it 'pd' for analyzing & visualizing data\n",
    "import pandas as pd\n",
    "from pandas.plotting import autocorrelation_plot\n",
    "\n",
    "# import matplotlib.plplot and call it 'plt' for plotting data\n",
    "import matplotlib.pyplot as plt\n",
    "%matplotlib inline\n",
    "\n",
    "# import numpy and call it 'np' for scientific computing\n",
    "import numpy as np\n",
    "\n",
    "# import seaborn and call it 'sns' for visualizations\n",
    "import seaborn as sns \n",
    "\n",
    "# import libraries for interactive viaulizations\n",
    "from IPython.display import HTML\n",
    "from bubbly.bubbly import bubbleplot\n",
    "import plotly.offline as py\n",
    "import plotly.graph_objs as go\n",
    "\n",
    "import warnings            \n",
    "warnings.filterwarnings(\"ignore\") "
   ]
  },
  {
   "cell_type": "markdown",
   "metadata": {
    "hideCode": true,
    "hideOutput": true
   },
   "source": [
    "<a id=3></a>\n",
    "## Load & Preview Data\n",
    "[[ go back to the top ]](#Table-of-contents)"
   ]
  },
  {
   "cell_type": "code",
   "execution_count": null,
   "metadata": {},
   "outputs": [],
   "source": [
    "# Load data from csv files and assign to variables \"data_2016\", \"data_2017\", \"data_2018\", \"data_2019\"\n",
    "data_2016=pd.read_csv(\"2016.csv\")\n",
    "data_2017=pd.read_csv(\"2017.csv\")\n",
    "data_2018=pd.read_csv(\"2018.csv\")\n",
    "data_2019=pd.read_csv(\"2019.csv\")"
   ]
  },
  {
   "cell_type": "code",
   "execution_count": null,
   "metadata": {},
   "outputs": [],
   "source": [
    "# Show the first 5 rows of data_2016\n",
    "data_2016.head()"
   ]
  },
  {
   "cell_type": "code",
   "execution_count": null,
   "metadata": {},
   "outputs": [],
   "source": [
    "# Show the first 5 rows of data_2017\n",
    "data_2017.head()"
   ]
  },
  {
   "cell_type": "code",
   "execution_count": null,
   "metadata": {},
   "outputs": [],
   "source": [
    "# Show the first 5 rows of data_2018\n",
    "data_2018.head()"
   ]
  },
  {
   "cell_type": "code",
   "execution_count": null,
   "metadata": {},
   "outputs": [],
   "source": [
    "# Show the first 5 rows of data_2019\n",
    "data_2019.head()"
   ]
  },
  {
   "cell_type": "markdown",
   "metadata": {},
   "source": [
    "Looking at the first few rows of data, it is still difficult to draw conclusions from the numbers alone. \n",
    "\n",
    "This is exactly why data visualizations are so powerful. Let's get started!"
   ]
  },
  {
   "cell_type": "markdown",
   "metadata": {
    "hideCode": true,
    "hideOutput": true
   },
   "source": [
    "<a id=4></a>\n",
    "## Bar Graph\n",
    "[[ go back to the top ]](#Table-of-contents)\n",
    "\n",
    "#### Let's start with an easy question: <b>What were the happiest countries in 2016?</b>"
   ]
  },
  {
   "cell_type": "code",
   "execution_count": null,
   "metadata": {},
   "outputs": [],
   "source": [
    "# Set figure size\n",
    "plt.figure(figsize=(25,10))\n",
    "\n",
    "# Create bar graph\n",
    "sns.barplot(x=data_2016['Country'], y=data_2016['Happiness_Score'], palette=\"BuPu\")\n",
    "\n",
    "# Set axes and title\n",
    "plt.xticks(rotation= 90)\n",
    "plt.xlabel('Country', size = 15)\n",
    "plt.ylabel('Happiness Score', size = 15)\n",
    "plt.title('Happiness Score by Country in 2016', size = 18)\n",
    "\n",
    "plt.show()"
   ]
  },
  {
   "cell_type": "markdown",
   "metadata": {
    "hideCode": true,
    "hideOutput": true
   },
   "source": [
    "We can see that the happiest country in 2019 was Denmark, and the least happiest country was Burundi.\n",
    "\n",
    "But this graph has a lot of information, so let's try to condense it by grouping countries by region and creating a new variable `region_happiness_ratio` (the sum of `happiness_score` for all the countries in a region divided by the number of countries in that region).\n",
    "\n",
    "To do this, we will create a new data frame, which is a table in which each column contains values of one variable and each row contains one set of values from each column. "
   ]
  },
  {
   "cell_type": "code",
   "execution_count": null,
   "metadata": {},
   "outputs": [],
   "source": [
    "# Create new data frame \"sorted_data_2016\" with region and region_happiness_ratio_2016\n",
    "region_lists=list(data_2016['Region'].unique())\n",
    "region_happiness_ratio_2016=[]\n",
    "for each in region_lists:\n",
    "    region=data_2016[data_2016['Region']==each]\n",
    "    region_happiness_rate_2016=sum(region.Happiness_Score)/len(region)\n",
    "    region_happiness_ratio_2016.append(region_happiness_rate_2016)\n",
    "   \n",
    "data=pd.DataFrame({'region':region_lists,'region_happiness_ratio_2016':region_happiness_ratio_2016})\n",
    "new_index=(data['region_happiness_ratio_2016'].sort_values(ascending=False)).index.values\n",
    "sorted_data_2016 = data.reindex(new_index)"
   ]
  },
  {
   "cell_type": "markdown",
   "metadata": {},
   "source": [
    "#### Let's visualize our condensed data: <b>What were the happiest regions of the world in 2016?</b>"
   ]
  },
  {
   "cell_type": "code",
   "execution_count": null,
   "metadata": {
    "_uuid": "4f5154a9baebce556f305662dcc37a254f89a655"
   },
   "outputs": [],
   "source": [
    "# Set figure size\n",
    "plt.figure(figsize=(10,8))\n",
    "\n",
    "# Create bar graph\n",
    "sns.barplot(x=sorted_data_2016['region'], y=sorted_data_2016['region_happiness_ratio_2016'], palette=\"BuPu\")\n",
    "\n",
    "# Set axes and title\n",
    "plt.xticks(rotation= 90)\n",
    "plt.xlabel('Region', size = 15)\n",
    "plt.ylabel('Region Happiness Ratio', size = 15)\n",
    "plt.title('Happiest Regions in the World in 2016', size = 18)\n",
    "\n",
    "plt.show()"
   ]
  },
  {
   "cell_type": "markdown",
   "metadata": {},
   "source": [
    "<div class=\"alert alert-block alert-info\">Pause!\n",
    "Create another bar graph for the region happiness ratio in <b>2019</b> (use the code cell below) and answer <b>Question 2</b> in the Answers.txt file. \n",
    "\n",
    "What were the 3 happiest regions in 2019?\n",
    "\n",
    "*Note: The code for the new data frame called \"sorted_data_2019\" is already entered in the code cell below. You just need to include the code for the plot from the cell above, making sure to use the correct variable \"sorted_data_2019\" in the assignments to x and y.*\n",
    "</div>"
   ]
  },
  {
   "cell_type": "code",
   "execution_count": null,
   "metadata": {},
   "outputs": [],
   "source": [
    "# Create new data frame \"sorted_data_2019\" with region and region_happiness_ratio_2019\n",
    "region_lists=list(data_2019['Region'].unique())\n",
    "region_happiness_ratio_2019=[]\n",
    "for each in region_lists:\n",
    "    region=data_2019[data_2019['Region']==each]\n",
    "    region_happiness_rate_2019=sum(region.Happiness_Score)/len(region)\n",
    "    region_happiness_ratio_2019.append(region_happiness_rate_2019)\n",
    "   \n",
    "data=pd.DataFrame({'region':region_lists,'region_happiness_ratio_2019':region_happiness_ratio_2019})\n",
    "new_index=(data['region_happiness_ratio_2019'].sort_values(ascending=False)).index.values\n",
    "sorted_data_2019 = data.reindex(new_index)\n",
    "\n",
    "# your code here"
   ]
  },
  {
   "cell_type": "markdown",
   "metadata": {
    "_uuid": "dee4ecfb9aeef7482280d5ab7f10b8684829ab4b"
   },
   "source": [
    "<a id=5></a>\n",
    "## Box Plot\n",
    "[[ go back to the top ]](#Table-of-contents)\n",
    "\n",
    "A box plot displays the distribution of a data set. The box shows the quartiles of the dataset while the whiskers extend to show the rest of the distribution, except for points that are determined to be outliers.\n",
    "\n",
    "Let's look at the `Happiness_Score` across years.\n",
    "\n",
    "#### <b>Did regional `Happiness_Score` change from 2016 to 2019?</b>"
   ]
  },
  {
   "cell_type": "code",
   "execution_count": null,
   "metadata": {
    "_uuid": "17ab204610f13b3969eb6259fca47e96ba3103b7"
   },
   "outputs": [],
   "source": [
    "# Combine all 4 data sets into one \"data_concat\" and add variable \"Year\"\n",
    "data_2016['Year']=2016\n",
    "data_2017['Year']=2017\n",
    "data_2018['Year']=2018\n",
    "data_2019['Year']=2019\n",
    "data_concat=pd.concat([data_2016,data_2017,data_2018,data_2019],axis=0,sort = False)\n",
    "\n",
    "# Create box plot\n",
    "f,ax = plt.subplots(figsize =(20,10))\n",
    "sns.boxplot(x=\"Year\" , y=\"Happiness_Score\", hue=\"Region\",data=data_concat,ax=ax)\n",
    "plt.xlabel('Year', size = 15)\n",
    "plt.ylabel('Happiness_Score', size = 15)\n",
    "plt.title('Happiness Score 2016-2019', size = 18)\n",
    "\n",
    "# Format legend location\n",
    "plt.legend(bbox_to_anchor=(1, 0.4, 0.2, 0.2), loc='center')\n",
    "\n",
    "plt.show()"
   ]
  },
  {
   "cell_type": "markdown",
   "metadata": {},
   "source": [
    "We can see that regional happiness scores didn't change much from 2016 to 2019.\n",
    "\n",
    "<div class=\"alert alert-block alert-info\">Pause! Answer <b>Question 3</b> in the Answers.txt file.\n",
    "    \n",
    "Why is there no visualization for **2018**? \n",
    "    \n",
    "*Hint: Look back at the variable names (column names) in each data set in the Load & Preview Data section.*\n",
    "</div>\n",
    "\n",
    "[[go back to Load & Preview Data ]](#Load-&-Preview-Data)"
   ]
  },
  {
   "cell_type": "markdown",
   "metadata": {},
   "source": [
    "<a id=6></a>\n",
    "## Violin Plot\n",
    "[[ go back to the top ]](#Table-of-contents)\n",
    "\n",
    "A violin plot is similar to a box plot in that it shows the median, quartiles, and minimum and maximum values, but in addition, it also shows the probability density of the data at different values. This can be useful if the distribution of the data set has more than one peak (i.e., the distribution is multimodal). \n",
    "\n",
    "<img src=\"Boxplot_violinplot.png\" align=\"left\"/>"
   ]
  },
  {
   "cell_type": "markdown",
   "metadata": {},
   "source": [
    "#### <b>What is the distribution of the features `Economy`, `Family`, and `Freedom` in 2016?</b>"
   ]
  },
  {
   "cell_type": "code",
   "execution_count": null,
   "metadata": {},
   "outputs": [],
   "source": [
    "# Create new data frame \"data_2016_violin\"\n",
    "data_2016_violin=pd.pivot_table(data_2016, index = 'Region', values=[\"Economy\",\"Family\",\"Freedom\"])\n",
    "\n",
    "# Set figure size\n",
    "f,ax=plt.subplots(figsize=(22,8))\n",
    "\n",
    "# Create violin plot\n",
    "sns.violinplot(data=data_2016_violin, inner=\"box\")\n",
    "plt.xticks(size = 15)\n",
    "plt.yticks(size = 15)\n",
    "plt.xlabel('Factor', size = 15)\n",
    "plt.ylabel('Factor Score', size = 15)\n",
    "plt.title('Economy, Family, and Freedom in 2016', size = 18)\n",
    "\n",
    "plt.show()"
   ]
  },
  {
   "cell_type": "markdown",
   "metadata": {},
   "source": [
    "<div class=\"alert alert-block alert-info\">Pause! Create another violin plot (use the code cell below) for \"<b>data_2019</b>\" and answer <b>Question 4</b> in the Answers.txt file. \n",
    "    \n",
    "Save your violin plot. Why do you think Freedom might have two peaks?\n",
    "    \n",
    "*Note: The code for a new data frame called \"data_2019_violin\" is already entered in the code cell below. Uncomment the last line of code to save the plot as a separate file.*\n",
    "</div>"
   ]
  },
  {
   "cell_type": "code",
   "execution_count": null,
   "metadata": {},
   "outputs": [],
   "source": [
    "# Create new data frame \"data_2019_violin\"\n",
    "data_2019_violin=pd.pivot_table(data_2019, index = 'Region', values=[\"Economy\",\"Family\", \"Freedom\"])\n",
    "\n",
    "# your code here\n",
    "\n",
    "\n",
    "# Uncomment the next line to save your graph as a png\n",
    "# f.savefig('violinplot.png')"
   ]
  },
  {
   "cell_type": "markdown",
   "metadata": {
    "_uuid": "404886dd627bae74f3f693063d22d6bcef638cc5"
   },
   "source": [
    "<a id=7></a>\n",
    "## Scatter Plot\n",
    "[[ go back to the top ]](#Table-of-contents)\n",
    "\n",
    "A scatter plot can be used to visualize whether there is a correlation (relationship) between two variables (i.e., whether the increase or decrease in one variable depends on the increase or decrease of the other variable).\n",
    "\n",
    "#### <b>What was the relationship between `Economy` and `Happiness_Score` in 2019?</b>"
   ]
  },
  {
   "cell_type": "code",
   "execution_count": null,
   "metadata": {},
   "outputs": [],
   "source": [
    "# Create scatter plot for economy and happiness_score for data_2019\n",
    "f,ax = plt.subplots(figsize = (15,8))\n",
    "sns.scatterplot(x=data_2019[\"Happiness_Score\"], y=data_2019[\"Economy\"])\n",
    "\n",
    "# Format title and axes\n",
    "plt.title(\"Relationship Between Economy and Happiness Score in 2019\", size=18)\n",
    "plt.xlabel('Happiness_Score', size = 15)\n",
    "plt.ylabel('Economy', size = 15)\n",
    "\n",
    "# Add line of best fit\n",
    "sns.regplot(x='Happiness_Score',y='Economy', data=data_2019)\n",
    "\n",
    "plt.show()"
   ]
  },
  {
   "cell_type": "markdown",
   "metadata": {},
   "source": [
    "We have included a line of best fit (or regression line) in the scatter plot to better visualize the relationship. We can see that the slope of the regression line is positive, which indicates a correlation: higher Economy scores correlate with higher Happiness scores."
   ]
  },
  {
   "cell_type": "markdown",
   "metadata": {},
   "source": [
    "<div class=\"alert alert-block alert-info\">Pause! Create another scatter plot for Happiness_Score and Generosity in 2019 (use the code cell below) and answer <b>Question 5</b> in the Answers.txt file.\n",
    "    \n",
    "Save your scatter plot and explain what the scatter plot is showing (e.g., positive, negative, or no correlation).  \n",
    "</div>"
   ]
  },
  {
   "cell_type": "code",
   "execution_count": null,
   "metadata": {},
   "outputs": [],
   "source": [
    "# your code here\n",
    "\n",
    "# Uncomment the next line to save your graph as a png\n",
    "# f.savefig('scatterplot.png')"
   ]
  },
  {
   "cell_type": "markdown",
   "metadata": {
    "_uuid": "67b73da25df07913b29e8f9ff6be38cfc4a1c1fb"
   },
   "source": [
    "<a id=8></a>\n",
    "## Scatterplot Matrix (Pair Plot)\n",
    "[[ go back to the top ]](#Table-of-contents)\n",
    "\n",
    "A scatterplot matrix shows a matrix of scatterplots for the combination of any two attributes, and plots the histograms of each column along the diagonal. This set of plots allows us to see the relationships between any two variables and the distribution of each variable for all the variables in a data set.\n",
    "\n",
    "Scatterplot matrices are useful for identifying trends to follow up on in large data sets with several variables.\n",
    "\n",
    "#### <b>What are the relationships between four factors: `Economy`, `Family`, `Health`, and `Freedom`?</b>"
   ]
  },
  {
   "cell_type": "code",
   "execution_count": null,
   "metadata": {},
   "outputs": [],
   "source": [
    "# Drop columns from data sets to only include variables of interest\n",
    "data_2016_reduced = data_2016.drop(['Generosity', 'Trust', 'Year'], axis=1)\n",
    "data_2017_reduced = data_2017.drop(['Generosity', 'Trust', 'Year'], axis=1)\n",
    "data_2018_reduced = data_2018.drop(['Generosity', 'Trust', 'Year'], axis=1)\n",
    "data_2019_reduced = data_2019.drop(['Generosity', 'Trust', 'Year'], axis=1)"
   ]
  },
  {
   "cell_type": "code",
   "execution_count": null,
   "metadata": {
    "_uuid": "42f59b988294cb3283a2464844cae35c88cce3ee"
   },
   "outputs": [],
   "source": [
    "# Create a pair plot for data_2019_reduced\n",
    "sns.pairplot(data_2019_reduced, hue=\"Region\")\n",
    "plt.show()\n",
    "\n",
    "# Note: Plotting the scatterplot matrix will take a moment. "
   ]
  },
  {
   "cell_type": "markdown",
   "metadata": {},
   "source": [
    "In the scatterplots, each dot represents a country, and its color indicates the region that the country belongs to. \n",
    "\n",
    "<div class=\"alert alert-block alert-info\">Pause! Answer <b>Question 6</b> in the Answers.txt file.\n",
    "    \n",
    "What do you notice about the pair plot? \n",
    "What might be a problem of plotting this particular data set in this way?\n",
    "    \n",
    "*Hint: Think about the number of countries in each region.*\n",
    "    \n",
    "</div>"
   ]
  },
  {
   "cell_type": "markdown",
   "metadata": {
    "_uuid": "77a35f8da4f79818a657f2d148137d50ebeee37a"
   },
   "source": [
    "<a id=9></a>\n",
    "## Heat Map\n",
    "[[ go back to the top ]](#Table-of-contents)\n",
    "\n",
    "We can also visualize correlations between variables with a so-called heat map. A heat map shows the magnitude of a relationship as color, and is particularly well-suited for making prominent values easily recognizable in a large amount of data."
   ]
  },
  {
   "cell_type": "code",
   "execution_count": null,
   "metadata": {
    "_uuid": "6c13ff0534fec049d72daa1c37c1d03701a86064"
   },
   "outputs": [],
   "source": [
    "# Remove column Year from data frame\n",
    "data_2019_noYear = data_2019.drop(['Year'], axis=1)\n",
    "\n",
    "# Create heat map for data_2019_noYear\n",
    "f,ax=plt.subplots(figsize=(10,8))\n",
    "sns.heatmap(data_2019_noYear.corr(),annot=True, cmap=\"BuPu\")\n",
    "plt.show()"
   ]
  },
  {
   "cell_type": "markdown",
   "metadata": {},
   "source": [
    "In this heat map, lighter colors represent a lower correlation (a weaker relationship) and darker colors represent a higher correlation (a stronger relationship). The diagonal represents variables correlated with themselves.\n",
    "\n",
    "Keep in mind that a correlation is simply an association between two variables, whether it be positive or negative, and does not indicate causality.\n",
    "\n",
    "<div class=\"alert alert-block alert-info\">Pause! Create another heat map for \"data_2016\" in the code cell below and answer <b>Question 7</b> in the Answers.txt file. Remember to first remove the column \"Year\" from data_2016.\n",
    "    \n",
    "From the two heat maps (for 2019 and 2016), which factors are most correlated with Happiness_Score? \n",
    "</div>"
   ]
  },
  {
   "cell_type": "code",
   "execution_count": null,
   "metadata": {},
   "outputs": [],
   "source": [
    "# your code here"
   ]
  },
  {
   "cell_type": "markdown",
   "metadata": {},
   "source": [
    "<a id=10></a>\n",
    "## Interactive Bubble Plot\n",
    "[[ go back to the top ]](#Table-of-contents)\n",
    "\n",
    "A bubble plot is a scatterplot with a third dimension which is represented by the size of the dots. This representation not only allows it to convey more information in one plot, but it can also make it easier to visually grasp and interpret the data.\n",
    "\n",
    "#### <b>What is the relationship between `Happiness_Score`, `Trust`, and `Economy`?\n",
    "    \n",
    "*Note: Once you create the interactive plot, you can explore the visualization by adding/removing regions and hovering over the bubbles.*"
   ]
  },
  {
   "cell_type": "code",
   "execution_count": null,
   "metadata": {},
   "outputs": [],
   "source": [
    "figure = bubbleplot(dataset = data_2019, x_column = 'Happiness_Score', y_column = 'Trust', \n",
    "    bubble_column = 'Country', size_column = 'Economy', color_column = 'Region', \n",
    "    x_title = \"Happiness Score\", y_title = \"Trust\", title = 'Happiness Score, Trust, and Economy by Region',\n",
    "    x_logscale = False, scale_bubble = 0.2, height = 600)\n",
    "\n",
    "py.iplot(figure, config={'scrollzoom': True})"
   ]
  },
  {
   "cell_type": "markdown",
   "metadata": {},
   "source": [
    "#### Well done! You have completed this tutorial. Remember to save the Answers.txt file (via File > Save File) before you close the tutorial by clicking on the \"Submit\" button."
   ]
  },
  {
   "cell_type": "markdown",
   "metadata": {},
   "source": [
    "<a id=11></a>\n",
    "## Sources \n",
    "\n",
    "- https://www.kaggle.com/saduman/eda-and-data-visualization-with-seaborn \n",
    "- https://www.kaggle.com/roshansharma/world-happiness-report \n",
    "- https://www.kaggle.com/unsdsn/world-happiness \n",
    "- https://en.wikipedia.org/wiki/World_Happiness_Report \n",
    "- https://towardsdatascience.com/complete-guide-to-data-visualization-with-python-2dd74df12b5e\n",
    "\n",
    "Sources for pictures:\n",
    "\n",
    "- Violin plot: https://towardsdatascience.com/violin-plots-explained-fb1d115e023d"
   ]
  }
 ],
 "metadata": {
  "celltoolbar": "Hide code",
  "kernelspec": {
   "display_name": "Python 3",
   "language": "python",
   "name": "python3"
  },
  "language_info": {
   "codemirror_mode": {
    "name": "ipython",
    "version": 3
   },
   "file_extension": ".py",
   "mimetype": "text/x-python",
   "name": "python",
   "nbconvert_exporter": "python",
   "pygments_lexer": "ipython3",
   "version": "3.8.3"
  }
 },
 "nbformat": 4,
 "nbformat_minor": 4
}
